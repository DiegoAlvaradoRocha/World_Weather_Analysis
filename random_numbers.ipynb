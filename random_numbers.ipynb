{
 "cells": [
  {
   "cell_type": "code",
   "execution_count": 1,
   "metadata": {},
   "outputs": [],
   "source": [
    "# import random module\n",
    "import random "
   ]
  },
  {
   "cell_type": "code",
   "execution_count": 4,
   "metadata": {},
   "outputs": [
    {
     "data": {
      "text/plain": [
       "-14"
      ]
     },
     "execution_count": 4,
     "metadata": {},
     "output_type": "execute_result"
    }
   ],
   "source": [
    "random.randint(-90,90)"
   ]
  },
  {
   "cell_type": "code",
   "execution_count": 6,
   "metadata": {},
   "outputs": [
    {
     "data": {
      "text/plain": [
       "0.17569214167500324"
      ]
     },
     "execution_count": 6,
     "metadata": {},
     "output_type": "execute_result"
    }
   ],
   "source": [
    "random.random()"
   ]
  },
  {
   "cell_type": "code",
   "execution_count": 9,
   "metadata": {},
   "outputs": [
    {
     "data": {
      "text/plain": [
       "35.58513640110025"
      ]
     },
     "execution_count": 9,
     "metadata": {},
     "output_type": "execute_result"
    }
   ],
   "source": [
    "random_number=random.random()+random.randint(-90,89)\n",
    "random_number"
   ]
  },
  {
   "cell_type": "code",
   "execution_count": 10,
   "metadata": {},
   "outputs": [],
   "source": [
    "# generate 10 random Latitudes (-90,90)\n",
    "x=1\n",
    "latitudes=[]\n",
    "while x<=10:\n",
    "    random_lat=random.randint(-90,89)+random.random()\n",
    "    latitudes.append(random_lat)\n",
    "    x+=1"
   ]
  },
  {
   "cell_type": "code",
   "execution_count": 11,
   "metadata": {},
   "outputs": [
    {
     "data": {
      "text/plain": [
       "[77.27173271320986,\n",
       " -45.4409766854688,\n",
       " 20.429780127776887,\n",
       " 29.66327794591605,\n",
       " -51.79122645414068,\n",
       " 10.670170394993587,\n",
       " 1.460542011139832,\n",
       " 16.441597116040086,\n",
       " -4.837933100301556,\n",
       " -71.57633000484172]"
      ]
     },
     "execution_count": 11,
     "metadata": {},
     "output_type": "execute_result"
    }
   ],
   "source": [
    "latitudes"
   ]
  },
  {
   "cell_type": "code",
   "execution_count": 47,
   "metadata": {},
   "outputs": [],
   "source": [
    "y=1\n",
    "lon=[]\n",
    "while y<11:\n",
    "    random_lon=random.randrange(-180,180,step=4)+random.random()\n",
    "    lon.append(random_lon)\n",
    "    y+=1"
   ]
  },
  {
   "cell_type": "code",
   "execution_count": 48,
   "metadata": {},
   "outputs": [
    {
     "data": {
      "text/plain": [
       "[92.51180537907499,\n",
       " -163.1206806636745,\n",
       " 72.66340512856999,\n",
       " -163.25302387950913,\n",
       " 136.24759232834242,\n",
       " 176.57400462607086,\n",
       " -31.70508988100377,\n",
       " 0.9877106244867694,\n",
       " -107.55949931962763,\n",
       " 56.45378216815647]"
      ]
     },
     "execution_count": 48,
     "metadata": {},
     "output_type": "execute_result"
    }
   ],
   "source": [
    "lon"
   ]
  },
  {
   "cell_type": "code",
   "execution_count": 49,
   "metadata": {},
   "outputs": [
    {
     "data": {
      "text/plain": [
       "30"
      ]
     },
     "execution_count": 49,
     "metadata": {},
     "output_type": "execute_result"
    }
   ],
   "source": [
    "random.randrange(-180,180,step=3)"
   ]
  },
  {
   "cell_type": "code",
   "execution_count": 36,
   "metadata": {},
   "outputs": [
    {
     "data": {
      "text/plain": [
       "115.68832123394975"
      ]
     },
     "execution_count": 36,
     "metadata": {},
     "output_type": "execute_result"
    }
   ],
   "source": [
    "random.uniform(-180,180)"
   ]
  },
  {
   "cell_type": "code",
   "execution_count": 51,
   "metadata": {},
   "outputs": [
    {
     "data": {
      "text/plain": [
       "[-14.970970079019423,\n",
       " 0.8076238826157862,\n",
       " -66.89606650352633,\n",
       " -16.091611418921104,\n",
       " -177.5323280997538,\n",
       " 20.891708710066098,\n",
       " -136.59340333635888,\n",
       " 53.89674276821967,\n",
       " 81.77198096433654,\n",
       " 139.20012630689553]"
      ]
     },
     "execution_count": 51,
     "metadata": {},
     "output_type": "execute_result"
    }
   ],
   "source": [
    "# generate 10 random Longitude (-180,180)\n",
    "\n",
    "y=1\n",
    "longitudes=[]\n",
    "while y<11:\n",
    "    random_long=random.uniform(-180,180)\n",
    "    longitudes.append(random_long)\n",
    "    y+=1\n",
    "longitudes"
   ]
  },
  {
   "cell_type": "code",
   "execution_count": 55,
   "metadata": {},
   "outputs": [],
   "source": [
    "#import Numpy module.\n",
    "import numpy as np"
   ]
  },
  {
   "cell_type": "code",
   "execution_count": 57,
   "metadata": {},
   "outputs": [
    {
     "data": {
      "text/plain": [
       "-47.467442549820504"
      ]
     },
     "execution_count": 57,
     "metadata": {},
     "output_type": "execute_result"
    }
   ],
   "source": [
    "np.random.uniform(-90.000,90.000)"
   ]
  },
  {
   "cell_type": "code",
   "execution_count": 67,
   "metadata": {},
   "outputs": [
    {
     "data": {
      "text/plain": [
       "array([-20.9466678 ,  14.31421988,  65.07767356, -43.4594411 ,\n",
       "        46.90556526, -57.45021973, -42.99103159,  15.2032925 ,\n",
       "        49.0990923 ,  16.05375807, -36.42387559,  62.32225418,\n",
       "       -65.99015733, -12.19914999, -86.97727642, -47.10233559,\n",
       "       -46.13512685, -61.52155906,   3.72190832,  15.88102836,\n",
       "        -7.81724485,  -7.54582293, -54.59008326, -36.63076998,\n",
       "        85.50058109, -84.06813062,  44.47857501, -75.04416054,\n",
       "        14.98235322,  42.21404246, -34.63352388, -25.3971544 ,\n",
       "        78.37463267,  45.96104731,  73.76644913,  75.63634805,\n",
       "        -6.15103579,  49.05542807,  10.33148978,  82.3522626 ,\n",
       "       -69.37181567, -71.36272314,  32.98735313,  23.61494512,\n",
       "       -88.98366135,  77.87373513, -35.76772246,  65.32517386,\n",
       "       -19.3751823 ,  85.02844069])"
      ]
     },
     "execution_count": 67,
     "metadata": {},
     "output_type": "execute_result"
    }
   ],
   "source": [
    "np.random.uniform(-90,90,size=50)"
   ]
  },
  {
   "cell_type": "code",
   "execution_count": 68,
   "metadata": {},
   "outputs": [],
   "source": [
    "# import timeit.\n",
    "import timeit"
   ]
  },
  {
   "cell_type": "code",
   "execution_count": 69,
   "metadata": {},
   "outputs": [
    {
     "name": "stdout",
     "output_type": "stream",
     "text": [
      "12.2 µs ± 39.8 ns per loop (mean ± std. dev. of 7 runs, 100000 loops each)\n"
     ]
    }
   ],
   "source": [
    "%timeit np.random.uniform(-90,90,size=1500)"
   ]
  },
  {
   "cell_type": "code",
   "execution_count": 74,
   "metadata": {},
   "outputs": [
    {
     "name": "stdout",
     "output_type": "stream",
     "text": [
      "1.13 ms ± 6.69 µs per loop (mean ± std. dev. of 7 runs, 1000 loops each)\n"
     ]
    }
   ],
   "source": [
    "def latitudes(size):\n",
    "    latitudes=[]\n",
    "    x=0\n",
    "    while x<(size):\n",
    "        random_lat=random.randint(-90,90)+random.random()\n",
    "        latitudes.append(random_lat)\n",
    "        x+=1\n",
    "    return latitudes\n",
    "# call the function with 1500\n",
    "%timeit latitudes(1500)"
   ]
  },
  {
   "cell_type": "code",
   "execution_count": 73,
   "metadata": {},
   "outputs": [
    {
     "name": "stdout",
     "output_type": "stream",
     "text": [
      "1.14 ms ± 9.34 µs per loop (mean ± std. dev. of 7 runs, 1000 loops each)\n"
     ]
    }
   ],
   "source": []
  },
  {
   "cell_type": "code",
   "execution_count": null,
   "metadata": {},
   "outputs": [],
   "source": []
  }
 ],
 "metadata": {
  "kernelspec": {
   "display_name": "PythonData",
   "language": "python",
   "name": "pythondata"
  },
  "language_info": {
   "codemirror_mode": {
    "name": "ipython",
    "version": 3
   },
   "file_extension": ".py",
   "mimetype": "text/x-python",
   "name": "python",
   "nbconvert_exporter": "python",
   "pygments_lexer": "ipython3",
   "version": "3.8.5"
  }
 },
 "nbformat": 4,
 "nbformat_minor": 4
}
